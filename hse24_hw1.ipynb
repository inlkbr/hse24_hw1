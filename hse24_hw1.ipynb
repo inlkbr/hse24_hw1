{
  "nbformat": 4,
  "nbformat_minor": 0,
  "metadata": {
    "colab": {
      "provenance": []
    },
    "kernelspec": {
      "name": "python3",
      "display_name": "Python 3"
    },
    "language_info": {
      "name": "python"
    }
  },
  "cells": [
    {
      "cell_type": "markdown",
      "source": [
        "**Установка FastQC**"
      ],
      "metadata": {
        "id": "6rnMDJFn31Zl"
      }
    },
    {
      "cell_type": "code",
      "execution_count": null,
      "metadata": {
        "id": "QhmujEqC134o"
      },
      "outputs": [],
      "source": [
        "!wget https://www.bioinformatics.babraham.ac.uk/projects/fastqc/fastqc_v0.11.9.zip\n",
        "!unzip fastqc_v0.11.9.zip\n",
        "!chmod a+x FastQC/fastqc"
      ]
    },
    {
      "cell_type": "code",
      "source": [
        "! wget ftp://ftp.sra.ebi.ac.uk/vol1/fastq/SRR583/003/SRR5836473/SRR5836473_1.fastq.gz\n",
        "! gunzip SRR5836473_1.fastq.gz"
      ],
      "metadata": {
        "id": "zbw4yZYizOsk"
      },
      "execution_count": null,
      "outputs": []
    },
    {
      "cell_type": "code",
      "source": [
        "!./FastQC/fastqc  /content/SRR5836473_1.fastq"
      ],
      "metadata": {
        "colab": {
          "base_uri": "https://localhost:8080/"
        },
        "id": "7hNSnqy54o7q",
        "outputId": "2b99b870-8c87-4196-f780-35d683d05f78"
      },
      "execution_count": 40,
      "outputs": [
        {
          "output_type": "stream",
          "name": "stdout",
          "text": [
            "Started analysis of SRR5836473_1.fastq\n",
            "Approx 5% complete for SRR5836473_1.fastq\n",
            "Approx 10% complete for SRR5836473_1.fastq\n",
            "Approx 15% complete for SRR5836473_1.fastq\n",
            "Approx 20% complete for SRR5836473_1.fastq\n",
            "Approx 25% complete for SRR5836473_1.fastq\n",
            "Approx 30% complete for SRR5836473_1.fastq\n",
            "Approx 35% complete for SRR5836473_1.fastq\n",
            "Approx 40% complete for SRR5836473_1.fastq\n",
            "Approx 45% complete for SRR5836473_1.fastq\n",
            "Approx 50% complete for SRR5836473_1.fastq\n",
            "Approx 55% complete for SRR5836473_1.fastq\n",
            "Approx 60% complete for SRR5836473_1.fastq\n",
            "Approx 65% complete for SRR5836473_1.fastq\n",
            "Approx 70% complete for SRR5836473_1.fastq\n",
            "Approx 75% complete for SRR5836473_1.fastq\n",
            "Approx 80% complete for SRR5836473_1.fastq\n",
            "Approx 85% complete for SRR5836473_1.fastq\n",
            "Approx 90% complete for SRR5836473_1.fastq\n",
            "Approx 95% complete for SRR5836473_1.fastq\n",
            "Analysis complete for SRR5836473_1.fastq\n"
          ]
        }
      ]
    },
    {
      "cell_type": "code",
      "source": [
        "! wget ftp://ftp.sra.ebi.ac.uk/vol1/fastq/SRR583/003/SRR5836473/SRR5836473_2.fastq.gz"
      ],
      "metadata": {
        "colab": {
          "base_uri": "https://localhost:8080/"
        },
        "id": "3dUjfAFy9oix",
        "outputId": "de093d9a-88c1-4850-afae-30ac87764eb3"
      },
      "execution_count": 71,
      "outputs": [
        {
          "output_type": "stream",
          "name": "stdout",
          "text": [
            "--2024-02-12 22:19:11--  ftp://ftp.sra.ebi.ac.uk/vol1/fastq/SRR583/003/SRR5836473/SRR5836473_2.fastq.gz\n",
            "           => ‘SRR5836473_2.fastq.gz’\n",
            "Resolving ftp.sra.ebi.ac.uk (ftp.sra.ebi.ac.uk)... 193.62.193.165\n",
            "Connecting to ftp.sra.ebi.ac.uk (ftp.sra.ebi.ac.uk)|193.62.193.165|:21... connected.\n",
            "Logging in as anonymous ... Logged in!\n",
            "==> SYST ... done.    ==> PWD ... done.\n",
            "==> TYPE I ... done.  ==> CWD (1) /vol1/fastq/SRR583/003/SRR5836473 ... done.\n",
            "==> SIZE SRR5836473_2.fastq.gz ... 8127008133\n",
            "==> PASV ... done.    ==> RETR SRR5836473_2.fastq.gz ... done.\n",
            "Length: 8127008133 (7.6G) (unauthoritative)\n",
            "\n",
            "SRR5836473_2.fastq. 100%[===================>]   7.57G  30.7MB/s    in 4m 18s  \n",
            "\n",
            "2024-02-12 22:23:30 (30.1 MB/s) - ‘SRR5836473_2.fastq.gz’ saved [8127008133]\n",
            "\n",
            "\n",
            "gzip: SRR5836473_2.fastq: No space left on device\n"
          ]
        }
      ]
    },
    {
      "cell_type": "code",
      "source": [
        "! gunzip SRR5836473_2.fastq.gz"
      ],
      "metadata": {
        "colab": {
          "base_uri": "https://localhost:8080/"
        },
        "id": "KxHP3RN3cgnK",
        "outputId": "e86f7da1-0336-4890-99ab-d0031c1b65d7"
      },
      "execution_count": 81,
      "outputs": [
        {
          "output_type": "stream",
          "name": "stdout",
          "text": [
            "^C\n"
          ]
        }
      ]
    },
    {
      "cell_type": "code",
      "source": [
        "!./FastQC/fastqc  /content/SRR5836473_2.fastq"
      ],
      "metadata": {
        "colab": {
          "base_uri": "https://localhost:8080/"
        },
        "id": "FQ1WljT3ZYLa",
        "outputId": "e8ea2834-fb9c-479c-fd71-049b724470f7"
      },
      "execution_count": 72,
      "outputs": [
        {
          "output_type": "stream",
          "name": "stdout",
          "text": [
            "Skipping '/content/SRR5836473_2.fastq' which didn't exist, or couldn't be read\n"
          ]
        }
      ]
    },
    {
      "cell_type": "markdown",
      "source": [
        "**Установка Bismark с зависимостями (+bowtie2, samtools)**"
      ],
      "metadata": {
        "id": "tWlqENEv6TSp"
      }
    },
    {
      "cell_type": "code",
      "source": [
        "! pip install -q condacolab\n",
        "import condacolab\n",
        "condacolab.install()"
      ],
      "metadata": {
        "colab": {
          "base_uri": "https://localhost:8080/"
        },
        "id": "VefSFcxg6Si8",
        "outputId": "1a509896-226d-4ab4-9c4d-5372595326fa"
      },
      "execution_count": 1,
      "outputs": [
        {
          "output_type": "stream",
          "name": "stdout",
          "text": [
            "\u001b[33mWARNING: Running pip as the 'root' user can result in broken permissions and conflicting behaviour with the system package manager. It is recommended to use a virtual environment instead: https://pip.pypa.io/warnings/venv\u001b[0m\u001b[33m\n",
            "\u001b[0m✨🍰✨ Everything looks OK!\n"
          ]
        }
      ]
    },
    {
      "cell_type": "code",
      "source": [
        "import condacolab\n",
        "condacolab.check()"
      ],
      "metadata": {
        "colab": {
          "base_uri": "https://localhost:8080/"
        },
        "id": "O-oGhDJ94nco",
        "outputId": "bd25f904-7f45-4f76-ee25-6c1c4357e32f"
      },
      "execution_count": 2,
      "outputs": [
        {
          "output_type": "stream",
          "name": "stdout",
          "text": [
            "✨🍰✨ Everything looks OK!\n"
          ]
        }
      ]
    },
    {
      "cell_type": "code",
      "source": [
        "! conda install -c bioconda bismark"
      ],
      "metadata": {
        "id": "jR6v-hsx656E"
      },
      "execution_count": null,
      "outputs": []
    },
    {
      "cell_type": "code",
      "source": [
        "! samtools view"
      ],
      "metadata": {
        "id": "Hn0JvinJ7K9A"
      },
      "execution_count": null,
      "outputs": []
    },
    {
      "cell_type": "markdown",
      "source": [
        "**Работа с bam-files с выравниваниями BS-seq ридов на 11-ю хромосому мыши**\n",
        "\n",
        "Выравнивания скачиваются с диска"
      ],
      "metadata": {
        "id": "JgRbRwiK957g"
      }
    },
    {
      "cell_type": "code",
      "source": [
        "! gdown --id 1h8kqppLRjNoK2uwcnXfK7iQbe_sXQmor\n",
        "! gdown --id 1vZUsitBBYAYaVHbfonRuoHEK_toNZnN5\n",
        "! gdown --id 1QE-3m9IoJehidSrLM7Npg8larZ4Tt1Ls"
      ],
      "metadata": {
        "colab": {
          "base_uri": "https://localhost:8080/"
        },
        "id": "Gf9pu3kU-ybV",
        "outputId": "a2f92af9-3d48-453f-ebc2-861c74c00447"
      },
      "execution_count": 5,
      "outputs": [
        {
          "output_type": "stream",
          "name": "stdout",
          "text": [
            "/usr/local/lib/python3.10/dist-packages/gdown/cli.py:138: FutureWarning: Option `--id` was deprecated in version 4.3.1 and will be removed in 5.0. You don't need to pass it anymore to use a file ID.\n",
            "  warnings.warn(\n",
            "Downloading...\n",
            "From (original): https://drive.google.com/uc?id=1h8kqppLRjNoK2uwcnXfK7iQbe_sXQmor\n",
            "From (redirected): https://drive.google.com/uc?id=1h8kqppLRjNoK2uwcnXfK7iQbe_sXQmor&confirm=t&uuid=82cffb68-d00c-4214-ba0a-2100b073971f\n",
            "To: /content/SRR5836473_1_bismark_bt2_pe.bam\n",
            "100% 806M/806M [00:09<00:00, 88.7MB/s]\n",
            "/usr/local/lib/python3.10/dist-packages/gdown/cli.py:138: FutureWarning: Option `--id` was deprecated in version 4.3.1 and will be removed in 5.0. You don't need to pass it anymore to use a file ID.\n",
            "  warnings.warn(\n",
            "Downloading...\n",
            "From (original): https://drive.google.com/uc?id=1vZUsitBBYAYaVHbfonRuoHEK_toNZnN5\n",
            "From (redirected): https://drive.google.com/uc?id=1vZUsitBBYAYaVHbfonRuoHEK_toNZnN5&confirm=t&uuid=9eafdfce-01f2-4106-83b4-b61bd1919992\n",
            "To: /content/SRR3824222_1_bismark_bt2_pe.bam\n",
            "100% 2.04G/2.04G [00:20<00:00, 100MB/s] \n",
            "/usr/local/lib/python3.10/dist-packages/gdown/cli.py:138: FutureWarning: Option `--id` was deprecated in version 4.3.1 and will be removed in 5.0. You don't need to pass it anymore to use a file ID.\n",
            "  warnings.warn(\n",
            "Downloading...\n",
            "From (original): https://drive.google.com/uc?id=1QE-3m9IoJehidSrLM7Npg8larZ4Tt1Ls\n",
            "From (redirected): https://drive.google.com/uc?id=1QE-3m9IoJehidSrLM7Npg8larZ4Tt1Ls&confirm=t&uuid=68faf1a8-011b-4d67-93c5-1e8ff69fc196\n",
            "To: /content/SRR5836475_1_bismark_bt2_pe.bam\n",
            "100% 1.20G/1.20G [00:14<00:00, 83.4MB/s]\n"
          ]
        }
      ]
    },
    {
      "cell_type": "code",
      "source": [
        "! samtools sort SRR5836473_1_bismark_bt2_pe.bam -o sorted_8cell.bam\n",
        "! samtools sort SRR5836475_1_bismark_bt2_pe.bam -o sorted_ICM.bam\n",
        "! samtools sort SRR3824222_1_bismark_bt2_pe.bam -o sorted_Epiblast.bam\n"
      ],
      "metadata": {
        "colab": {
          "base_uri": "https://localhost:8080/"
        },
        "id": "Gn_WyCzU95fp",
        "outputId": "78194bef-953f-4879-c9e5-00c13515924b"
      },
      "execution_count": 6,
      "outputs": [
        {
          "output_type": "stream",
          "name": "stdout",
          "text": [
            "[bam_sort_core] merging from 4 files and 1 in-memory blocks...\n",
            "[bam_sort_core] merging from 5 files and 1 in-memory blocks...\n",
            "[bam_sort_core] merging from 9 files and 1 in-memory blocks...\n"
          ]
        }
      ]
    },
    {
      "cell_type": "code",
      "source": [
        "! samtools index  sorted_8cell.bam\n",
        "! samtools index  sorted_ICM.bam\n",
        "! samtools index  sorted_Epiblast.bam"
      ],
      "metadata": {
        "id": "ovKSS3gMFqOq"
      },
      "execution_count": 7,
      "outputs": []
    },
    {
      "cell_type": "markdown",
      "source": [
        "Число ридов, закартированных на участки 11347700-11367700; 40185800-40195800"
      ],
      "metadata": {
        "id": "lgWK0VYLF2Af"
      }
    },
    {
      "cell_type": "code",
      "source": [
        "! samtools view sorted_8cell.bam chr11:11347700-11367700 | cut -f1 | sort -u | wc -l\n",
        "! samtools view sorted_8cell.bam chr11:40185800-40195800 | cut -f1 | sort -u | wc -l\n",
        "! samtools view sorted_ICM.bam chr11:11347700-11367700 | cut -f1 | sort -u | wc -l\n",
        "! samtools view sorted_ICM.bam chr11:40185800-40195800 | cut -f1 | sort -u | wc -l\n",
        "! samtools view sorted_Epiblast.bam chr11:11347700-11367700 | cut -f1 | sort -u | wc -l\n",
        "! samtools view sorted_Epiblast.bam chr11:40185800-40195800 | cut -f1 | sort -u | wc -l"
      ],
      "metadata": {
        "colab": {
          "base_uri": "https://localhost:8080/"
        },
        "id": "AuaXDj1WFydU",
        "outputId": "82f2fb7c-5c93-4b8a-f5a4-abbc0ab1220e"
      },
      "execution_count": 8,
      "outputs": [
        {
          "output_type": "stream",
          "name": "stdout",
          "text": [
            "551\n",
            "194\n",
            "797\n",
            "274\n",
            "1344\n",
            "565\n"
          ]
        }
      ]
    },
    {
      "cell_type": "markdown",
      "source": [
        "**Дедупликация выравниваний**"
      ],
      "metadata": {
        "id": "-0X8Lg0_GYqc"
      }
    },
    {
      "cell_type": "code",
      "source": [
        "! deduplicate_bismark  --bam  --paired  -o s_8_cell  SRR5836473_1_bismark_bt2_pe.bam\n",
        "! deduplicate_bismark  --bam  --paired  -o s_ICM  SRR5836475_1_bismark_bt2_pe.bam\n",
        "! deduplicate_bismark  --bam  --paired  -o s_epiblsat  SRR3824222_1_bismark_bt2_pe.bam\n"
      ],
      "metadata": {
        "colab": {
          "base_uri": "https://localhost:8080/"
        },
        "id": "tiu1fYbAGeyg",
        "outputId": "248c1090-a80b-4326-ba80-6df944541d15"
      },
      "execution_count": 9,
      "outputs": [
        {
          "output_type": "stream",
          "name": "stdout",
          "text": [
            "Output filename was given as: s_8_cell\n",
            "Processing paired-end Bismark output file(s) (SAM format):\n",
            "SRR5836473_1_bismark_bt2_pe.bam\n",
            "\n",
            "\n",
            "If there are several alignments to a single position in the genome the first alignment will be chosen. Since the input files are not in any way sorted this is a near-enough random selection of reads.\n",
            "\n",
            "Checking file >>SRR5836473_1_bismark_bt2_pe.bam<< for signs of file truncation...\n",
            "\n",
            "\n",
            "\n",
            "Now testing Bismark result file SRR5836473_1_bismark_bt2_pe.bam for positional sorting (which would be bad...)\t...passed!\n",
            "Output file is: s_8_cell.deduplicated.bam\n",
            "\n",
            "skipping header line:\t@HD\tVN:1.0\tSO:unsorted\n",
            "skipping header line:\t@SQ\tSN:chr11\tLN:121973369\n",
            "skipping header line:\t@PG\tID:Bismark\tVN:v0.24.2\tCL:\"bismark --genome_folder /mnt/cache-1/for_minor/mm39_11/ -q --non_directional -parallel 10 -1 SRR3824222_1.fq,SRR5836473_1.fq,SRR5836473_1.fq -2 SRR3824222_2.fq,SRR5836473_2.fq,SRR5836473_2.fq\"\n",
            "skipping header line:\t@PG\tID:samtools\tPN:samtools\tPP:Bismark\tVN:1.19.2\tCL:/usr/local/bin/samtools view -h --threads 1 SRR5836473_1_bismark_bt2_pe.bam\n",
            "\n",
            "Total number of alignments analysed in SRR5836473_1_bismark_bt2_pe.bam:\t2858170\n",
            "Total number duplicated alignments removed:\t522512 (18.28%)\n",
            "Duplicated alignments were found at:\t230677 different position(s)\n",
            "\n",
            "Total count of deduplicated leftover sequences: 2335658 (81.72% of total)\n",
            "\n",
            "Output filename was given as: s_ICM\n",
            "Processing paired-end Bismark output file(s) (SAM format):\n",
            "SRR5836475_1_bismark_bt2_pe.bam\n",
            "\n",
            "\n",
            "If there are several alignments to a single position in the genome the first alignment will be chosen. Since the input files are not in any way sorted this is a near-enough random selection of reads.\n",
            "\n",
            "Checking file >>SRR5836475_1_bismark_bt2_pe.bam<< for signs of file truncation...\n",
            "\n",
            "\n",
            "\n",
            "Now testing Bismark result file SRR5836475_1_bismark_bt2_pe.bam for positional sorting (which would be bad...)\t...passed!\n",
            "Output file is: s_ICM.deduplicated.bam\n",
            "\n",
            "skipping header line:\t@HD\tVN:1.0\tSO:unsorted\n",
            "skipping header line:\t@SQ\tSN:chr11\tLN:121973369\n",
            "skipping header line:\t@PG\tID:Bismark\tVN:v0.24.2\tCL:\"bismark --genome_folder /mnt/cache-1/for_minor/mm39_11/ -q --non_directional -parallel 10 -1 SRR5836475_1.fq -2 SRR5836475_2.fq\"\n",
            "skipping header line:\t@PG\tID:samtools\tPN:samtools\tPP:Bismark\tVN:1.19.2\tCL:/usr/local/bin/samtools view -h --threads 1 SRR5836475_1_bismark_bt2_pe.bam\n",
            "\n",
            "Total number of alignments analysed in SRR5836475_1_bismark_bt2_pe.bam:\t4170098\n",
            "Total number duplicated alignments removed:\t378125 (9.07%)\n",
            "Duplicated alignments were found at:\t229940 different position(s)\n",
            "\n",
            "Total count of deduplicated leftover sequences: 3791973 (90.93% of total)\n",
            "\n",
            "Output filename was given as: s_epiblsat\n",
            "Processing paired-end Bismark output file(s) (SAM format):\n",
            "SRR3824222_1_bismark_bt2_pe.bam\n",
            "\n",
            "\n",
            "If there are several alignments to a single position in the genome the first alignment will be chosen. Since the input files are not in any way sorted this is a near-enough random selection of reads.\n",
            "\n",
            "Checking file >>SRR3824222_1_bismark_bt2_pe.bam<< for signs of file truncation...\n",
            "\n",
            "\n",
            "\n",
            "Now testing Bismark result file SRR3824222_1_bismark_bt2_pe.bam for positional sorting (which would be bad...)\t...passed!\n",
            "Output file is: s_epiblsat.deduplicated.bam\n",
            "\n",
            "skipping header line:\t@HD\tVN:1.0\tSO:unsorted\n",
            "skipping header line:\t@SQ\tSN:chr11\tLN:121973369\n",
            "skipping header line:\t@PG\tID:Bismark\tVN:v0.24.2\tCL:\"bismark --genome_folder /mnt/cache-1/for_minor/mm39_11/ -q --non_directional -parallel 10 -1 SRR3824222_1.fq,SRR5836473_1.fq,SRR5836473_1.fq -2 SRR3824222_2.fq,SRR5836473_2.fq,SRR5836473_2.fq\"\n",
            "skipping header line:\t@PG\tID:samtools\tPN:samtools\tPP:Bismark\tVN:1.19.2\tCL:/usr/local/bin/samtools view -h --threads 1 SRR3824222_1_bismark_bt2_pe.bam\n",
            "\n",
            "Total number of alignments analysed in SRR3824222_1_bismark_bt2_pe.bam:\t7051731\n",
            "Total number duplicated alignments removed:\t205287 (2.91%)\n",
            "Duplicated alignments were found at:\t164998 different position(s)\n",
            "\n",
            "Total count of deduplicated leftover sequences: 6846444 (97.09% of total)\n",
            "\n"
          ]
        }
      ]
    },
    {
      "cell_type": "markdown",
      "source": [
        "**Коллинг метилирования цитозинов**"
      ],
      "metadata": {
        "id": "-Dv3icolgrIa"
      }
    },
    {
      "cell_type": "code",
      "source": [
        "! gunzip chr11.fa.gz"
      ],
      "metadata": {
        "id": "FxXW06xRgZzI"
      },
      "execution_count": 59,
      "outputs": []
    },
    {
      "cell_type": "code",
      "source": [
        "! head chr11.fa"
      ],
      "metadata": {
        "colab": {
          "base_uri": "https://localhost:8080/"
        },
        "id": "4PWF5AeTulcQ",
        "outputId": "fcee0338-b1b1-4cac-9627-d3f2b4227ba6"
      },
      "execution_count": 60,
      "outputs": [
        {
          "output_type": "stream",
          "name": "stdout",
          "text": [
            ">chr11\n",
            "NNNNNNNNNNNNNNNNNNNNNNNNNNNNNNNNNNNNNNNNNNNNNNNNNN\n",
            "NNNNNNNNNNNNNNNNNNNNNNNNNNNNNNNNNNNNNNNNNNNNNNNNNN\n",
            "NNNNNNNNNNNNNNNNNNNNNNNNNNNNNNNNNNNNNNNNNNNNNNNNNN\n",
            "NNNNNNNNNNNNNNNNNNNNNNNNNNNNNNNNNNNNNNNNNNNNNNNNNN\n",
            "NNNNNNNNNNNNNNNNNNNNNNNNNNNNNNNNNNNNNNNNNNNNNNNNNN\n",
            "NNNNNNNNNNNNNNNNNNNNNNNNNNNNNNNNNNNNNNNNNNNNNNNNNN\n",
            "NNNNNNNNNNNNNNNNNNNNNNNNNNNNNNNNNNNNNNNNNNNNNNNNNN\n",
            "NNNNNNNNNNNNNNNNNNNNNNNNNNNNNNNNNNNNNNNNNNNNNNNNNN\n",
            "NNNNNNNNNNNNNNNNNNNNNNNNNNNNNNNNNNNNNNNNNNNNNNNNNN\n"
          ]
        }
      ]
    },
    {
      "cell_type": "code",
      "source": [],
      "metadata": {
        "colab": {
          "base_uri": "https://localhost:8080/"
        },
        "id": "GyIUthuyCFS3",
        "outputId": "621e3f7f-e650-4288-b86d-f8348de9a7f7"
      },
      "execution_count": 52,
      "outputs": [
        {
          "output_type": "stream",
          "name": "stdout",
          "text": [
            "mv: cannot stat 'chr11.fa': No such file or directory\n"
          ]
        }
      ]
    },
    {
      "cell_type": "code",
      "source": [
        "! bismark_methylation_extractor --gzip --bedGraph --cytosine_report --genome_folder ./ s_8_cell.deduplicated.bam"
      ],
      "metadata": {
        "colab": {
          "base_uri": "https://localhost:8080/"
        },
        "id": "X8H11esLjJdZ",
        "outputId": "a94b2862-9423-41ec-a94d-9a1be43dcd55"
      },
      "execution_count": 62,
      "outputs": [
        {
          "output_type": "stream",
          "name": "stdout",
          "text": [
            "\n",
            " *** Bismark methylation extractor version v0.24.2 ***\n",
            "\n",
            "Trying to determine the type of mapping from the SAM header line of file s_8_cell.deduplicated.bam\n",
            "Treating file(s) as paired-end data (as extracted from @PG line)\n",
            "\n",
            "Setting option '--no_overlap' since this is (normally) the right thing to do for paired-end data\n",
            "\n",
            "\n",
            "Setting core usage to single-threaded (default). Consider using --multicore <int> to speed up the extraction process.\n",
            "\n",
            "Summarising Bismark methylation extractor parameters:\n",
            "===============================================================\n",
            "Bismark paired-end SAM format specified (default)\n",
            "Number of cores to be used: 1\n",
            "Output will be written to the current directory ('/content')\n",
            "\n",
            "\n",
            "Summarising bedGraph parameters:\n",
            "===============================================================\n",
            "Generating additional output in bedGraph and coverage format\n",
            "bedGraph format:\t<Chromosome> <Start Position> <End Position> <Methylation Percentage>\n",
            "coverage format:\t<Chromosome> <Start Position> <End Position> <Methylation Percentage> <count methylated> <count non-methylated>\n",
            "\n",
            "Using a cutoff of 1 read(s) to report cytosine positions\n",
            "Reporting and sorting cytosine methylation information in CpG context only (default)\n",
            "The bedGraph UNIX sort command will use the following memory setting:\t'2G'. Temporary directory used for sorting is the output directory\n",
            "\n",
            "\n",
            "Summarising genome-wide cytosine methylation report parameters:\n",
            "===============================================================\n",
            "Generating comprehensive genome-wide cytosine report\n",
            "(output format: <Chromosome> <Position> <Strand> <count methylated> <count non-methylated>  <C-context>  <trinucleotide context> )\n",
            "Reporting cytosine methylation in CpG context only (default)\n",
            "Using 1-based genomic coordinates (default)\n",
            "Genome folder was specified as ./\n",
            "\n",
            "Checking file >>s_8_cell.deduplicated.bam<< for signs of file truncation...\n",
            "\n",
            "\n",
            "Now testing Bismark result file >s_8_cell.deduplicated.bam< for positional sorting (which would be bad...)\t...passed!\n",
            "Writing result file containing methylation information for C in CpG context from the original top strand to CpG_OT_s_8_cell.deduplicated.txt.gz\n",
            "Writing result file containing methylation information for C in CpG context from the complementary to original top strand to CpG_CTOT_s_8_cell.deduplicated.txt.gz\n",
            "Writing result file containing methylation information for C in CpG context from the complementary to original bottom strand to CpG_CTOB_s_8_cell.deduplicated.txt.gz\n",
            "Writing result file containing methylation information for C in CpG context from the original bottom strand to CpG_OB_s_8_cell.deduplicated.txt.gz\n",
            "\n",
            "Writing result file containing methylation information for C in CHG context from the original top strand to CHG_OT_s_8_cell.deduplicated.txt.gz\n",
            "Writing result file containing methylation information for C in CHG context from the complementary to original top strand to CHG_CTOT_s_8_cell.deduplicated.txt.gz\n",
            "Writing result file containing methylation information for C in CHG context from the complementary to original bottom strand to CHG_CTOB_s_8_cell.deduplicated.txt.gz\n",
            "Writing result file containing methylation information for C in CHG context from the original bottom strand to CHG_OB_s_8_cell.deduplicated.txt.gz\n",
            "\n",
            "Writing result file containing methylation information for C in CHH context from the original top strand to CHH_OT_s_8_cell.deduplicated.txt.gz\n",
            "Writing result file containing methylation information for C in CHH context from the complementary to original top strand to CHH_CTOT_s_8_cell.deduplicated.txt.gz\n",
            "Writing result file containing methylation information for C in CHH context from the complementary to original bottom strand to CHH_CTOB_s_8_cell.deduplicated.txt.gz\n",
            "Writing result file containing methylation information for C in CHH context from the original bottom strand to CHH_OB_s_8_cell.deduplicated.txt.gz\n",
            "\n",
            "Now reading in Bismark result file s_8_cell.deduplicated.bam\n",
            "skipping SAM header line:\t@HD\tVN:1.0\tSO:unsorted\n",
            "skipping SAM header line:\t@SQ\tSN:chr11\tLN:121973369\n",
            "skipping SAM header line:\t@PG\tID:Bismark\tVN:v0.24.2\tCL:\"bismark --genome_folder /mnt/cache-1/for_minor/mm39_11/ -q --non_directional -parallel 10 -1 SRR3824222_1.fq,SRR5836473_1.fq,SRR5836473_1.fq -2 SRR3824222_2.fq,SRR5836473_2.fq,SRR5836473_2.fq\"\n",
            "skipping SAM header line:\t@PG\tID:samtools\tPN:samtools\tPP:Bismark\tVN:1.19.2\tCL:/usr/local/bin/samtools view -h --threads 1 SRR5836473_1_bismark_bt2_pe.bam\n",
            "skipping SAM header line:\t@PG\tID:samtools.1\tPN:samtools\tPP:samtools\tVN:1.19.2\tCL:/usr/local/bin/samtools view -bS --threads 1 -\n",
            "skipping SAM header line:\t@PG\tID:samtools.2\tPN:samtools\tPP:samtools.1\tVN:1.19.2\tCL:/usr/local/bin/samtools view -h s_8_cell.deduplicated.bam\n",
            "Processed lines: 500000\n",
            "Processed lines: 1000000\n",
            "Processed lines: 1500000\n",
            "Processed lines: 2000000\n",
            "\n",
            "Processed 2335658 lines in total\n",
            "Total number of methylation call strings processed: 4671316\n",
            "\n",
            "Final Cytosine Methylation Report\n",
            "=================================\n",
            "Total number of C's analysed:\t104748620\n",
            "\n",
            "Total methylated C's in CpG context:\t2103916\n",
            "Total methylated C's in CHG context:\t270195\n",
            "Total methylated C's in CHH context:\t1236285\n",
            "\n",
            "Total C to T conversions in CpG context:\t2729982\n",
            "Total C to T conversions in CHG context:\t22951565\n",
            "Total C to T conversions in CHH context:\t75456677\n",
            "\n",
            "C methylated in CpG context:\t43.5%\n",
            "C methylated in CHG context:\t1.2%\n",
            "C methylated in CHH context:\t1.6%\n",
            "\n",
            "\n",
            "Determining maximum read lengths for M-Bias plots\n",
            "Maximum read length of Read 1: 140\n",
            "Maximum read length of Read 2: 140\n",
            "\n",
            "Perl module GD::Graph::lines is not installed, skipping drawing M-bias plots (only writing out M-bias plot table)\n",
            "Determining maximum read lengths for M-Bias plots\n",
            "Maximum read length of Read 1: 140\n",
            "Maximum read length of Read 2: 140\n",
            "\n",
            "Perl module GD::Graph::lines is not installed, skipping drawing M-bias plots (only writing out M-bias plot table)\n",
            "Deleting unused files ...\n",
            "\n",
            "CpG_OT_s_8_cell.deduplicated.txt.gz contains data ->\tkept\n",
            "CpG_CTOT_s_8_cell.deduplicated.txt.gz contains data ->\tkept\n",
            "CpG_CTOB_s_8_cell.deduplicated.txt.gz contains data ->\tkept\n",
            "CpG_OB_s_8_cell.deduplicated.txt.gz contains data ->\tkept\n",
            "CHG_OT_s_8_cell.deduplicated.txt.gz contains data ->\tkept\n",
            "CHG_CTOT_s_8_cell.deduplicated.txt.gz contains data ->\tkept\n",
            "CHG_CTOB_s_8_cell.deduplicated.txt.gz contains data ->\tkept\n",
            "CHG_OB_s_8_cell.deduplicated.txt.gz contains data ->\tkept\n",
            "CHH_OT_s_8_cell.deduplicated.txt.gz contains data ->\tkept\n",
            "CHH_CTOT_s_8_cell.deduplicated.txt.gz contains data ->\tkept\n",
            "CHH_CTOB_s_8_cell.deduplicated.txt.gz contains data ->\tkept\n",
            "CHH_OB_s_8_cell.deduplicated.txt.gz contains data ->\tkept\n",
            "\n",
            "\n",
            "Using these input files: CpG_OT_s_8_cell.deduplicated.txt.gz CpG_CTOT_s_8_cell.deduplicated.txt.gz CpG_CTOB_s_8_cell.deduplicated.txt.gz CpG_OB_s_8_cell.deduplicated.txt.gz CHG_OT_s_8_cell.deduplicated.txt.gz CHG_CTOT_s_8_cell.deduplicated.txt.gz CHG_CTOB_s_8_cell.deduplicated.txt.gz CHG_OB_s_8_cell.deduplicated.txt.gz CHH_OT_s_8_cell.deduplicated.txt.gz CHH_CTOT_s_8_cell.deduplicated.txt.gz CHH_CTOB_s_8_cell.deduplicated.txt.gz CHH_OB_s_8_cell.deduplicated.txt.gz\n",
            "\n",
            "Summary of parameters for bismark2bedGraph conversion:\n",
            "======================================================\n",
            "bedGraph output:\t\ts_8_cell.deduplicated.bedGraph.gz\n",
            "output directory:\t\t><\n",
            "remove whitespaces:\t\tno\n",
            "CX context:\t\t\tno (CpG context only, default)\n",
            "No-header selected:\t\tno\n",
            "Sorting method:\t\t\tUnix sort-based (smaller memory footprint, but slower)\n",
            "Sort buffer size:\t\t2G\n",
            "Coverage threshold:\t\t1\n",
            "=============================================================================\n",
            "Methylation information will now be written into a bedGraph and coverage file\n",
            "=============================================================================\n",
            "\n",
            "Using the following files as Input:\n",
            "/content/CpG_OT_s_8_cell.deduplicated.txt.gz\t/content/CpG_CTOT_s_8_cell.deduplicated.txt.gz\t/content/CpG_CTOB_s_8_cell.deduplicated.txt.gz\t/content/CpG_OB_s_8_cell.deduplicated.txt.gz\n",
            "\n",
            "Writing bedGraph to file: s_8_cell.deduplicated.bedGraph.gz\n",
            "Also writing out a coverage file including counts methylated and unmethylated residues to file: s_8_cell.deduplicated.bismark.cov.gz\n",
            "\n",
            "Now writing methylation information for file >>CpG_OT_s_8_cell.deduplicated.txt.gz<< to individual files for each chromosome\n",
            "Finished writing out individual chromosome files for CpG_OT_s_8_cell.deduplicated.txt.gz\n",
            "Now writing methylation information for file >>CpG_CTOT_s_8_cell.deduplicated.txt.gz<< to individual files for each chromosome\n",
            "Finished writing out individual chromosome files for CpG_CTOT_s_8_cell.deduplicated.txt.gz\n",
            "Now writing methylation information for file >>CpG_CTOB_s_8_cell.deduplicated.txt.gz<< to individual files for each chromosome\n",
            "Finished writing out individual chromosome files for CpG_CTOB_s_8_cell.deduplicated.txt.gz\n",
            "Now writing methylation information for file >>CpG_OB_s_8_cell.deduplicated.txt.gz<< to individual files for each chromosome\n",
            "Finished writing out individual chromosome files for CpG_OB_s_8_cell.deduplicated.txt.gz\n",
            "\n",
            "Collecting temporary chromosome file information... Processing the following input file(s):\n",
            "CpG_OT_s_8_cell.deduplicated.txt.gz.chrchr11.methXtractor.temp\n",
            "\n",
            "Sorting input file CpG_OT_s_8_cell.deduplicated.txt.gz.chrchr11.methXtractor.temp by positions (using -S of 2G)\n",
            "Successfully deleted the temporary input file CpG_OT_s_8_cell.deduplicated.txt.gz.chrchr11.methXtractor.temp\n",
            "\n",
            "Finished BedGraph conversion ...\n",
            "\n",
            "Summary of parameters for genome-wide cytosine report:\n",
            "==============================================================================\n",
            "Coverage infile:\t\t\t\ts_8_cell.deduplicated.bismark.cov.gz\n",
            "Output directory:\t\t\t\t><\n",
            "Parent directory:\t\t\t\t>/content/<\n",
            "Genome directory:\t\t\t\t>/content/<\n",
            "Coverage threshold\t\t\t\t0 (all positions will be reported, default)\n",
            "CX context:\t\t\t\t\tno (CpG context only, default)\n",
            "Genome coordinates used:\t\t\t1-based (default)\n",
            "GZIP compression:\t\t\t\tyes\n",
            "Split by chromosome:\t\t\t\tno\n",
            "\n",
            "\n",
            "Now reading in and storing sequence information of the genome specified in: /content/\n",
            "\n",
            "chr chr11 (121973369 bp)\n",
            "\n",
            "Stored sequence information of 1 chromosomes/scaffolds in total\n",
            "\n",
            "==============================================================================\n",
            "Methylation information will now be written into a genome-wide cytosine report\n",
            "==============================================================================\n",
            "\n",
            "Adding context-specific methylation summaries\n",
            "\n",
            ">>> Writing genome-wide cytosine report to: s_8_cell.deduplicated.CpG_report.txt.gz <<<\n",
            "\n",
            ">>> Writing all cytosine context summary file to: s_8_cell.deduplicated.cytosine_context_summary.txt <<<\n",
            "\n",
            "Storing all covered cytosine positions for chromosome: chr11\n",
            "Writing cytosine report for last chromosome chr11 (stored 1737533 different covered positions)\n",
            "Finished writing out cytosine report for covered chromosomes (processed 1 chromosomes/scaffolds in total)\n",
            "\n",
            "Now processing chromosomes that were not covered by any methylation calls in the coverage file...\n",
            "All chromosomes in the genome were covered by at least some reads. coverage2cytosine processing complete.\n",
            "\n",
            "\n",
            "\n",
            "Finished generating genome-wide cytosine report\n",
            "\n"
          ]
        }
      ]
    },
    {
      "cell_type": "code",
      "source": [
        "! bismark_methylation_extractor --gzip --bedGraph --cytosine_report --genome_folder ./ s_ICM.deduplicated.bam"
      ],
      "metadata": {
        "colab": {
          "base_uri": "https://localhost:8080/"
        },
        "id": "6ABEk7UzOeZ4",
        "outputId": "0534dd0a-a629-4f62-b4bc-a450b1afca30"
      },
      "execution_count": 69,
      "outputs": [
        {
          "output_type": "stream",
          "name": "stdout",
          "text": [
            "\n",
            " *** Bismark methylation extractor version v0.24.2 ***\n",
            "\n",
            "Trying to determine the type of mapping from the SAM header line of file s_ICM.deduplicated.bam\n",
            "Treating file(s) as paired-end data (as extracted from @PG line)\n",
            "\n",
            "Setting option '--no_overlap' since this is (normally) the right thing to do for paired-end data\n",
            "\n",
            "\n",
            "Setting core usage to single-threaded (default). Consider using --multicore <int> to speed up the extraction process.\n",
            "\n",
            "Summarising Bismark methylation extractor parameters:\n",
            "===============================================================\n",
            "Bismark paired-end SAM format specified (default)\n",
            "Number of cores to be used: 1\n",
            "Output will be written to the current directory ('/content')\n",
            "\n",
            "\n",
            "Summarising bedGraph parameters:\n",
            "===============================================================\n",
            "Generating additional output in bedGraph and coverage format\n",
            "bedGraph format:\t<Chromosome> <Start Position> <End Position> <Methylation Percentage>\n",
            "coverage format:\t<Chromosome> <Start Position> <End Position> <Methylation Percentage> <count methylated> <count non-methylated>\n",
            "\n",
            "Using a cutoff of 1 read(s) to report cytosine positions\n",
            "Reporting and sorting cytosine methylation information in CpG context only (default)\n",
            "The bedGraph UNIX sort command will use the following memory setting:\t'2G'. Temporary directory used for sorting is the output directory\n",
            "\n",
            "\n",
            "Summarising genome-wide cytosine methylation report parameters:\n",
            "===============================================================\n",
            "Generating comprehensive genome-wide cytosine report\n",
            "(output format: <Chromosome> <Position> <Strand> <count methylated> <count non-methylated>  <C-context>  <trinucleotide context> )\n",
            "Reporting cytosine methylation in CpG context only (default)\n",
            "Using 1-based genomic coordinates (default)\n",
            "Genome folder was specified as ./\n",
            "\n",
            "Checking file >>s_ICM.deduplicated.bam<< for signs of file truncation...\n",
            "\n",
            "\n",
            "Now testing Bismark result file >s_ICM.deduplicated.bam< for positional sorting (which would be bad...)\t...passed!\n",
            "Writing result file containing methylation information for C in CpG context from the original top strand to CpG_OT_s_ICM.deduplicated.txt.gz\n",
            "Writing result file containing methylation information for C in CpG context from the complementary to original top strand to CpG_CTOT_s_ICM.deduplicated.txt.gz\n",
            "Writing result file containing methylation information for C in CpG context from the complementary to original bottom strand to CpG_CTOB_s_ICM.deduplicated.txt.gz\n",
            "Writing result file containing methylation information for C in CpG context from the original bottom strand to CpG_OB_s_ICM.deduplicated.txt.gz\n",
            "\n",
            "Writing result file containing methylation information for C in CHG context from the original top strand to CHG_OT_s_ICM.deduplicated.txt.gz\n",
            "Writing result file containing methylation information for C in CHG context from the complementary to original top strand to CHG_CTOT_s_ICM.deduplicated.txt.gz\n",
            "Writing result file containing methylation information for C in CHG context from the complementary to original bottom strand to CHG_CTOB_s_ICM.deduplicated.txt.gz\n",
            "Writing result file containing methylation information for C in CHG context from the original bottom strand to CHG_OB_s_ICM.deduplicated.txt.gz\n",
            "\n",
            "Writing result file containing methylation information for C in CHH context from the original top strand to CHH_OT_s_ICM.deduplicated.txt.gz\n",
            "Writing result file containing methylation information for C in CHH context from the complementary to original top strand to CHH_CTOT_s_ICM.deduplicated.txt.gz\n",
            "Writing result file containing methylation information for C in CHH context from the complementary to original bottom strand to CHH_CTOB_s_ICM.deduplicated.txt.gz\n",
            "Writing result file containing methylation information for C in CHH context from the original bottom strand to CHH_OB_s_ICM.deduplicated.txt.gz\n",
            "\n",
            "Now reading in Bismark result file s_ICM.deduplicated.bam\n",
            "skipping SAM header line:\t@HD\tVN:1.0\tSO:unsorted\n",
            "skipping SAM header line:\t@SQ\tSN:chr11\tLN:121973369\n",
            "skipping SAM header line:\t@PG\tID:Bismark\tVN:v0.24.2\tCL:\"bismark --genome_folder /mnt/cache-1/for_minor/mm39_11/ -q --non_directional -parallel 10 -1 SRR5836475_1.fq -2 SRR5836475_2.fq\"\n",
            "skipping SAM header line:\t@PG\tID:samtools\tPN:samtools\tPP:Bismark\tVN:1.19.2\tCL:/usr/local/bin/samtools view -h --threads 1 SRR5836475_1_bismark_bt2_pe.bam\n",
            "skipping SAM header line:\t@PG\tID:samtools.1\tPN:samtools\tPP:samtools\tVN:1.19.2\tCL:/usr/local/bin/samtools view -bS --threads 1 -\n",
            "skipping SAM header line:\t@PG\tID:samtools.2\tPN:samtools\tPP:samtools.1\tVN:1.19.2\tCL:/usr/local/bin/samtools view -h s_ICM.deduplicated.bam\n",
            "Processed lines: 500000\n",
            "Processed lines: 1000000\n",
            "Processed lines: 1500000\n",
            "Processed lines: 2000000\n",
            "Processed lines: 2500000\n",
            "Processed lines: 3000000\n",
            "Processed lines: 3500000\n",
            "\n",
            "Processed 3791973 lines in total\n",
            "Total number of methylation call strings processed: 7583946\n",
            "\n",
            "Final Cytosine Methylation Report\n",
            "=================================\n",
            "Total number of C's analysed:\t177777254\n",
            "\n",
            "Total methylated C's in CpG context:\t1915876\n",
            "Total methylated C's in CHG context:\t298499\n",
            "Total methylated C's in CHH context:\t1434775\n",
            "\n",
            "Total C to T conversions in CpG context:\t6256205\n",
            "Total C to T conversions in CHG context:\t39157632\n",
            "Total C to T conversions in CHH context:\t128714267\n",
            "\n",
            "C methylated in CpG context:\t23.4%\n",
            "C methylated in CHG context:\t0.8%\n",
            "C methylated in CHH context:\t1.1%\n",
            "\n",
            "\n",
            "Determining maximum read lengths for M-Bias plots\n",
            "Maximum read length of Read 1: 140\n",
            "Maximum read length of Read 2: 140\n",
            "\n",
            "Perl module GD::Graph::lines is not installed, skipping drawing M-bias plots (only writing out M-bias plot table)\n",
            "Determining maximum read lengths for M-Bias plots\n",
            "Maximum read length of Read 1: 140\n",
            "Maximum read length of Read 2: 140\n",
            "\n",
            "Perl module GD::Graph::lines is not installed, skipping drawing M-bias plots (only writing out M-bias plot table)\n",
            "Deleting unused files ...\n",
            "\n",
            "CpG_OT_s_ICM.deduplicated.txt.gz contains data ->\tkept\n",
            "CpG_CTOT_s_ICM.deduplicated.txt.gz contains data ->\tkept\n",
            "CpG_CTOB_s_ICM.deduplicated.txt.gz contains data ->\tkept\n",
            "CpG_OB_s_ICM.deduplicated.txt.gz contains data ->\tkept\n",
            "CHG_OT_s_ICM.deduplicated.txt.gz contains data ->\tkept\n",
            "CHG_CTOT_s_ICM.deduplicated.txt.gz contains data ->\tkept\n",
            "CHG_CTOB_s_ICM.deduplicated.txt.gz contains data ->\tkept\n",
            "CHG_OB_s_ICM.deduplicated.txt.gz contains data ->\tkept\n",
            "CHH_OT_s_ICM.deduplicated.txt.gz contains data ->\tkept\n",
            "CHH_CTOT_s_ICM.deduplicated.txt.gz contains data ->\tkept\n",
            "CHH_CTOB_s_ICM.deduplicated.txt.gz contains data ->\tkept\n",
            "CHH_OB_s_ICM.deduplicated.txt.gz contains data ->\tkept\n",
            "\n",
            "\n",
            "Using these input files: CpG_OT_s_ICM.deduplicated.txt.gz CpG_CTOT_s_ICM.deduplicated.txt.gz CpG_CTOB_s_ICM.deduplicated.txt.gz CpG_OB_s_ICM.deduplicated.txt.gz CHG_OT_s_ICM.deduplicated.txt.gz CHG_CTOT_s_ICM.deduplicated.txt.gz CHG_CTOB_s_ICM.deduplicated.txt.gz CHG_OB_s_ICM.deduplicated.txt.gz CHH_OT_s_ICM.deduplicated.txt.gz CHH_CTOT_s_ICM.deduplicated.txt.gz CHH_CTOB_s_ICM.deduplicated.txt.gz CHH_OB_s_ICM.deduplicated.txt.gz\n",
            "\n",
            "Summary of parameters for bismark2bedGraph conversion:\n",
            "======================================================\n",
            "bedGraph output:\t\ts_ICM.deduplicated.bedGraph.gz\n",
            "output directory:\t\t><\n",
            "remove whitespaces:\t\tno\n",
            "CX context:\t\t\tno (CpG context only, default)\n",
            "No-header selected:\t\tno\n",
            "Sorting method:\t\t\tUnix sort-based (smaller memory footprint, but slower)\n",
            "Sort buffer size:\t\t2G\n",
            "Coverage threshold:\t\t1\n",
            "=============================================================================\n",
            "Methylation information will now be written into a bedGraph and coverage file\n",
            "=============================================================================\n",
            "\n",
            "Using the following files as Input:\n",
            "/content/CpG_OT_s_ICM.deduplicated.txt.gz\t/content/CpG_CTOT_s_ICM.deduplicated.txt.gz\t/content/CpG_CTOB_s_ICM.deduplicated.txt.gz\t/content/CpG_OB_s_ICM.deduplicated.txt.gz\n",
            "\n",
            "Writing bedGraph to file: s_ICM.deduplicated.bedGraph.gz\n",
            "Also writing out a coverage file including counts methylated and unmethylated residues to file: s_ICM.deduplicated.bismark.cov.gz\n",
            "\n",
            "Now writing methylation information for file >>CpG_OT_s_ICM.deduplicated.txt.gz<< to individual files for each chromosome\n",
            "Finished writing out individual chromosome files for CpG_OT_s_ICM.deduplicated.txt.gz\n",
            "Now writing methylation information for file >>CpG_CTOT_s_ICM.deduplicated.txt.gz<< to individual files for each chromosome\n",
            "Finished writing out individual chromosome files for CpG_CTOT_s_ICM.deduplicated.txt.gz\n",
            "Now writing methylation information for file >>CpG_CTOB_s_ICM.deduplicated.txt.gz<< to individual files for each chromosome\n",
            "Finished writing out individual chromosome files for CpG_CTOB_s_ICM.deduplicated.txt.gz\n",
            "Now writing methylation information for file >>CpG_OB_s_ICM.deduplicated.txt.gz<< to individual files for each chromosome\n",
            "Finished writing out individual chromosome files for CpG_OB_s_ICM.deduplicated.txt.gz\n",
            "\n",
            "Collecting temporary chromosome file information... Processing the following input file(s):\n",
            "CpG_OT_s_ICM.deduplicated.txt.gz.chrchr11.methXtractor.temp\n",
            "\n",
            "Sorting input file CpG_OT_s_ICM.deduplicated.txt.gz.chrchr11.methXtractor.temp by positions (using -S of 2G)\n",
            "Successfully deleted the temporary input file CpG_OT_s_ICM.deduplicated.txt.gz.chrchr11.methXtractor.temp\n",
            "\n",
            "Finished BedGraph conversion ...\n",
            "\n",
            "Summary of parameters for genome-wide cytosine report:\n",
            "==============================================================================\n",
            "Coverage infile:\t\t\t\ts_ICM.deduplicated.bismark.cov.gz\n",
            "Output directory:\t\t\t\t><\n",
            "Parent directory:\t\t\t\t>/content/<\n",
            "Genome directory:\t\t\t\t>/content/<\n",
            "Coverage threshold\t\t\t\t0 (all positions will be reported, default)\n",
            "CX context:\t\t\t\t\tno (CpG context only, default)\n",
            "Genome coordinates used:\t\t\t1-based (default)\n",
            "GZIP compression:\t\t\t\tyes\n",
            "Split by chromosome:\t\t\t\tno\n",
            "\n",
            "\n",
            "Now reading in and storing sequence information of the genome specified in: /content/\n",
            "\n",
            "chr chr11 (121973369 bp)\n",
            "\n",
            "Stored sequence information of 1 chromosomes/scaffolds in total\n",
            "\n",
            "==============================================================================\n",
            "Methylation information will now be written into a genome-wide cytosine report\n",
            "==============================================================================\n",
            "\n",
            "Adding context-specific methylation summaries\n",
            "\n",
            ">>> Writing genome-wide cytosine report to: s_ICM.deduplicated.CpG_report.txt.gz <<<\n",
            "\n",
            ">>> Writing all cytosine context summary file to: s_ICM.deduplicated.cytosine_context_summary.txt <<<\n",
            "\n",
            "Storing all covered cytosine positions for chromosome: chr11\n",
            "Writing cytosine report for last chromosome chr11 (stored 2054296 different covered positions)\n",
            "Finished writing out cytosine report for covered chromosomes (processed 1 chromosomes/scaffolds in total)\n",
            "\n",
            "Now processing chromosomes that were not covered by any methylation calls in the coverage file...\n",
            "All chromosomes in the genome were covered by at least some reads. coverage2cytosine processing complete.\n",
            "\n",
            "\n",
            "\n",
            "Finished generating genome-wide cytosine report\n",
            "\n"
          ]
        }
      ]
    },
    {
      "cell_type": "code",
      "source": [
        "! bismark_methylation_extractor --gzip --bedGraph --cytosine_report --genome_folder ./ s_epiblast.deduplicated.bam"
      ],
      "metadata": {
        "colab": {
          "base_uri": "https://localhost:8080/"
        },
        "id": "jTTaiERtO1oh",
        "outputId": "d7fb1a59-7a16-496e-a699-9d55d71d9c0d"
      },
      "execution_count": 70,
      "outputs": [
        {
          "output_type": "stream",
          "name": "stdout",
          "text": [
            "\n",
            " *** Bismark methylation extractor version v0.24.2 ***\n",
            "\n",
            "Trying to determine the type of mapping from the SAM header line of file s_epiblast.deduplicated.bam\n",
            "\n",
            "[FATAL ERROR]:\tFile >>s_epiblast.deduplicated.bam<< did not exist. Please re-specify file names and try again...\n",
            "\n"
          ]
        }
      ]
    },
    {
      "cell_type": "code",
      "source": [
        "! bismark2report -mbias_report s_8_cell.deduplicated.M-bias.txt"
      ],
      "metadata": {
        "colab": {
          "base_uri": "https://localhost:8080/"
        },
        "id": "6Z2V-ndxrnPq",
        "outputId": "1c0e07cf-ce26-4324-d2f0-7a014552887d"
      },
      "execution_count": 66,
      "outputs": [
        {
          "output_type": "stream",
          "name": "stdout",
          "text": [
            "Found no potential alignment reports in the current directory. Please specify a single Bismark alignment report file using the option '--alignment_report FILE'\n",
            "\n",
            "\n",
            "  SYNOPSIS:\n",
            "\n",
            "  This script uses a Bismark alignment report to generate a graphical HTML report page. Optionally, further reports of\n",
            "  the Bismark suite such as deduplication, methylation extractor splitting or M-bias reports can be specified as well. If several\n",
            "  Bismark reports are found in the same folder, a separate report will be generated for each of these, whereby the output filename\n",
            "  will be derived from the Bismark alignment report file. bismark2report attempts to find optional reports automatically based\n",
            "  on the file basename.\n",
            "\n",
            "\n",
            "  USAGE: bismark2report [options]\n",
            "\n",
            "\n",
            "-o/--output <filename>     Name of the output file (optional). If not specified explicitly, the output filename will be derived\n",
            "                           from the Bismark alignment report file. Specifying an output filename only works if the HTML report is\n",
            "                           to be generated for a single Bismark alignment report (and potentially additional reports).\n",
            "\n",
            "--dir                      Output directory. Output is written to the current directory if not specified explicitly.\n",
            "\n",
            "\n",
            "--alignment_report FILE    If not specified explicitly, bismark2report attempts to find Bismark report file(s) in the current\n",
            "                           directory and produces a separate HTML report for each mapping report file. Based on the basename of\n",
            "                           the Bismark mapping report, bismark2report will also attempt to find the other Bismark reports (see below)\n",
            "                           for inclusion into the HTML report. Specifying a Bismark alignment report file is mandatory.\n",
            "\n",
            "--dedup_report FILE        If not specified explicitly, bismark2report attempts to find a deduplication report file with the same\n",
            "                           basename as the Bismark mapping report (generated by deduplicate_bismark) in the\n",
            "                           current working directory. Including a deduplication report is optional, and using the FILE 'none'\n",
            "                           will skip this step entirely.\n",
            "\n",
            "--splitting_report FILE    If not specified explicitly, bismark2report attempts to find a splitting report file with the same\n",
            "                           basename as the Bismark mapping report (generated by the Bismark methylation extractor) in the current\n",
            "                           working directory. Including a splitting report is optional, and using the FILE 'none' will skip this\n",
            "                           step entirely.\n",
            "\n",
            "--mbias_report FILE        If not specified explicitly, bismark2report attempts to find a single M-bias report file with the same\n",
            "                           basename as the Bismark mapping report (generated by the Bismark methylation extractor) in the current\n",
            "                           working directory. Including an M-Bias report is optional, and using the FILE 'none' will skip this step\n",
            "                           entirely.\n",
            "\n",
            "--nucleotide_report FILE   If not specified explicitly, bismark2report attempts to find a single nucleotide coverage report file\n",
            "                           with the same basename as the Bismark mapping report (generated by Bismark with the option\n",
            "                           '--nucleotide_coverage') in the current working directory. Including a nucleotide coverage statistics\n",
            "                           report is optional, and using the FILE 'none' will skip this report entirely.\n",
            "\n",
            "                           Script last modified: 13 Sep 2021\n",
            "\n"
          ]
        }
      ]
    },
    {
      "cell_type": "code",
      "source": [
        "! head s_8_cell.deduplicated.bedGraph"
      ],
      "metadata": {
        "colab": {
          "base_uri": "https://localhost:8080/"
        },
        "id": "bLmifSbKdDqw",
        "outputId": "bc64ecde-3b63-4f4b-cf93-9c5868000aec"
      },
      "execution_count": 80,
      "outputs": [
        {
          "output_type": "stream",
          "name": "stdout",
          "text": [
            "track type=bedGraph\n",
            "chr11\t3050030\t3050031\t50\n",
            "chr11\t3050047\t3050048\t66.6666666666667\n",
            "chr11\t3050048\t3050049\t50\n",
            "chr11\t3050223\t3050224\t87.5\n",
            "chr11\t3050224\t3050225\t53.3333333333333\n",
            "chr11\t3050285\t3050286\t66.6666666666667\n",
            "chr11\t3050286\t3050287\t33.3333333333333\n",
            "chr11\t3050309\t3050310\t62.5\n",
            "chr11\t3050310\t3050311\t50\n"
          ]
        }
      ]
    },
    {
      "cell_type": "code",
      "source": [
        "! head s_8_cell.deduplicated.bedGraph"
      ],
      "metadata": {
        "colab": {
          "base_uri": "https://localhost:8080/"
        },
        "id": "-xoFUyUieDFU",
        "outputId": "19e23b11-ea90-42dc-817b-954286102a1b"
      },
      "execution_count": 82,
      "outputs": [
        {
          "output_type": "stream",
          "name": "stdout",
          "text": [
            "track type=bedGraph\n",
            "chr11\t3050030\t3050031\t50\n",
            "chr11\t3050047\t3050048\t66.6666666666667\n",
            "chr11\t3050048\t3050049\t50\n",
            "chr11\t3050223\t3050224\t87.5\n",
            "chr11\t3050224\t3050225\t53.3333333333333\n",
            "chr11\t3050285\t3050286\t66.6666666666667\n",
            "chr11\t3050286\t3050287\t33.3333333333333\n",
            "chr11\t3050309\t3050310\t62.5\n",
            "chr11\t3050310\t3050311\t50\n"
          ]
        }
      ]
    },
    {
      "cell_type": "code",
      "source": [
        "!ls -l s_8_cell.deduplicated.bedGraph"
      ],
      "metadata": {
        "colab": {
          "base_uri": "https://localhost:8080/"
        },
        "id": "whgpsl4_hdnq",
        "outputId": "ca0e4c97-61a1-4dc6-b0c2-dc366b02a16a"
      },
      "execution_count": 85,
      "outputs": [
        {
          "output_type": "stream",
          "name": "stdout",
          "text": [
            "-rw-r--r-- 1 root root 50053186 Feb 12 21:08 s_8_cell.deduplicated.bedGraph\n"
          ]
        }
      ]
    }
  ]
}